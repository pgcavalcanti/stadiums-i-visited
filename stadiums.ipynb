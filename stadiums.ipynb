{
 "cells": [
  {
   "cell_type": "markdown",
   "metadata": {},
   "source": [
    "This is a data visualization exercise. \n",
    "My goal is to create a map to visualize the stadiums I visited in my life.\n",
    "\n",
    "If you have problems running the following codes, you may need to install some libs first:\n",
    "pip install numpy\n",
    "pip install pandas\n",
    "pip install OSMPythonTools\n",
    "pip install plotly"
   ]
  },
  {
   "cell_type": "markdown",
   "metadata": {},
   "source": [
    "### Let's create a list of stadiums I remember, possibly including cities to distinguish similar or equal names.\n",
    "### I decided to create one list for the stadiums I watched games and one list for the stadiums I only toured."
   ]
  },
  {
   "cell_type": "code",
   "execution_count": 129,
   "metadata": {},
   "outputs": [],
   "source": [
    "games = ['Estadio Alfredo Jaconi',\n",
    "        'Arena do Gremio',\n",
    "        'Estadio Beira Rio Porto Alegre',\n",
    "        'Estadio Olimpico Porto Alegre', #not used anymore\n",
    "        'Estadio Centenario Caxias do Sul',\n",
    "        'Estadio Centenario Montevideo',\n",
    "        'Estadio Aldo Dapuzzo Rio Grande',\n",
    "        'Estadio Arthur Lawson',\n",
    "        'Estadio Luis Franzini',\n",
    "        'Estadio Boca do Lobo Pelotas',\n",
    "        'Estadio do Vale Novo Hamburgo',\n",
    "        'Estadio da Montanha Bento Gonçalves',\n",
    "        'Estadio Montanha dos Vinhedos Bento Gonçalves',\n",
    "        'Estadio das Castanheiras Farroupilha',\n",
    "        'Estadio Antonio David Farina Veranopolis',\n",
    "        'Estadio Edmundo Feix Venancio Aires',\n",
    "        'Estadio Florestal Lajeado', #not used anymore\n",
    "        'Arena Alviazul Lajeado',\n",
    "        'Estadio Cristo Rei São Leopoldo',\n",
    "        'Estadio Castelão Fortaleza',\n",
    "        'Estadio Morumbi',\n",
    "        'Estadio Palestra Italia São Paulo', #demolished\n",
    "        'Estadio Maracanã Rio De Janeiro',\n",
    "        'Estadio Ilha do Retiro Recife',\n",
    "        'Estadio Moto Clube São Luis Maranhão',\n",
    "        'Estadio Santa Cruz Ribeirão Preto',\n",
    "        'Estadio Heriberto Hulse Criciuma',\n",
    "        'Estadio dos Pioneiros Pato Branco',\n",
    "        'Estadio Colosso da Lagoa Erechim',\n",
    "        'Estadio Nilton Santos Rio De Janeiro',\n",
    "        'Estadio Sao Januario',\n",
    "        'Estadio Defensores del Chaco Asuncion',\n",
    "        'Estadio La Nueva Olla Asuncion',\n",
    "        'Estadio Libertad Asuncion',\n",
    "        'Estadio Couto Pereira Curitiba',\n",
    "        'Estadio da PUCRS Porto Alegre',\n",
    "        'Rogers Centre Toronto',\n",
    "        'BMO stadium Toronto',\n",
    "        'Tim Hortons Field Hamilton',\n",
    "        'Gillette Stadium', \n",
    "        'Heinz Field Pittsburgh',\n",
    "        'Dodger Stadium Los Angeles',\n",
    "        ]\n",
    "\n",
    "toured = ['Estadio Bombonera Buenos Aires',\n",
    "         \"Levi's stadium Santa Clara\",\n",
    "         'Olympic stadium Los Angeles',\n",
    "         'Arena Joinville',\n",
    "         'Arena Condá Chapecó',\n",
    "         'Estadio do Café Londrina',\n",
    "         'Olympic Stadium Montreal',\n",
    "         'Estadio Rio Parapity Pedro Juan Caballero',\n",
    "         'Estadio Olimpico Montevideo'\n",
    "         ]"
   ]
  },
  {
   "cell_type": "markdown",
   "metadata": {},
   "source": [
    "### Now, we need to find out the latitude and longitude of them.\n",
    "### These data will be stored in a pandas dataframe."
   ]
  },
  {
   "cell_type": "code",
   "execution_count": 130,
   "metadata": {},
   "outputs": [
    {
     "name": "stderr",
     "output_type": "stream",
     "text": [
      "[nominatim] downloading data: search\n",
      "[nominatim] downloading data: search\n"
     ]
    },
    {
     "name": "stdout",
     "output_type": "stream",
     "text": [
      "Estadio Moto Clube São Luis Maranhão  was not found\n",
      "Estadio La Nueva Olla Asuncion  was not found\n"
     ]
    }
   ],
   "source": [
    "from OSMPythonTools.nominatim import Nominatim\n",
    "import pandas as pd\n",
    "import numpy as np\n",
    "\n",
    "nom = Nominatim()\n",
    "\n",
    "df = pd.DataFrame(index=np.arange(0, len(names)), columns=['name', 'lat', 'long', 'mark'])\n",
    "\n",
    "for idx, n in enumerate(games):\n",
    "    est = nom.query(n)\n",
    "    if est.id() is not None: #query found\n",
    "        #print(est.displayName())\n",
    "        json = est.toJSON()[0] #query may return more than 1 dictionary. We'll assume the first is the best one.\n",
    "        df.loc[idx] = [n, json['lat'], json['lon'], 'Game(s)']\n",
    "    else: #query not found\n",
    "        print(n, ' was not found')\n",
    "        df.loc[idx] = [n, np.nan, np.nan, 'Game(s)']\n",
    "    #print(10*'-')\n",
    "    \n",
    "for idx, n in enumerate(toured):\n",
    "    est = nom.query(n)\n",
    "    if est.id() is not None: #query found\n",
    "        #print(est.displayName())\n",
    "        json = est.toJSON()[0] #query may return more than 1 dictionary. We'll assume the first is the best one.\n",
    "        df.loc[idx + len(games)] = [n, json['lat'], json['lon'], 'Tour']\n",
    "    else: #query not found\n",
    "        print(n, ' was not found')\n",
    "        df.loc[idx + len(games)] = [n, np.nan, np.nan, 'Tour']\n",
    "    #print(10*'-')    "
   ]
  },
  {
   "cell_type": "code",
   "execution_count": 131,
   "metadata": {},
   "outputs": [
    {
     "name": "stdout",
     "output_type": "stream",
     "text": [
      "                                             name                  lat  \\\n",
      "0                          Estadio Alfredo Jaconi         -29.16236395   \n",
      "1                                 Arena do Gremio  -29.974042949999998   \n",
      "2                  Estadio Beira Rio Porto Alegre          -30.0654898   \n",
      "3                   Estadio Olimpico Porto Alegre         -30.06053275   \n",
      "4                Estadio Centenario Caxias do Sul  -29.165009050000002   \n",
      "5                   Estadio Centenario Montevideo         -34.89453925   \n",
      "6                 Estadio Aldo Dapuzzo Rio Grande         -32.04782095   \n",
      "7                           Estadio Arthur Lawson          -32.0916689   \n",
      "8                           Estadio Luis Franzini   -34.91649554999999   \n",
      "9                    Estadio Boca do Lobo Pelotas  -31.761068299999998   \n",
      "10                  Estadio do Vale Novo Hamburgo         -29.72619985   \n",
      "11            Estadio da Montanha Bento Gonçalves         -29.16459975   \n",
      "12  Estadio Montanha dos Vinhedos Bento Gonçalves          -29.1537096   \n",
      "13           Estadio das Castanheiras Farroupilha          -29.2087103   \n",
      "14       Estadio Antonio David Farina Veranopolis          -28.9433296   \n",
      "15            Estadio Edmundo Feix Venancio Aires          -29.6067186   \n",
      "16                      Estadio Florestal Lajeado  -29.450788199999998   \n",
      "17                         Arena Alviazul Lajeado  -29.483964200000003   \n",
      "18                Estadio Cristo Rei São Leopoldo  -29.782700499999997   \n",
      "19                     Estadio Castelão Fortaleza            -3.806742   \n",
      "20                                Estadio Morumbi         -23.60005845   \n",
      "21              Estadio Palestra Italia São Paulo         -23.52749715   \n",
      "22                Estadio Maracanã Rio De Janeiro  -22.912161949999998   \n",
      "23                  Estadio Ilha do Retiro Recife           -8.0630099   \n",
      "24           Estadio Moto Clube São Luis Maranhão                  NaN   \n",
      "25              Estadio Santa Cruz Ribeirão Preto         -21.20239205   \n",
      "26               Estadio Heriberto Hulse Criciuma  -28.684339100000003   \n",
      "27              Estadio dos Pioneiros Pato Branco         -26.47649375   \n",
      "28               Estadio Colosso da Lagoa Erechim  -27.651266399999997   \n",
      "29           Estadio Nilton Santos Rio De Janeiro         -22.89318445   \n",
      "30                           Estadio Sao Januario           -22.890752   \n",
      "31          Estadio Defensores del Chaco Asuncion          -25.2919551   \n",
      "32                 Estadio La Nueva Olla Asuncion                  NaN   \n",
      "33                      Estadio Libertad Asuncion          -25.2916678   \n",
      "34                 Estadio Couto Pereira Curitiba  -25.421437599999997   \n",
      "35                  Estadio da PUCRS Porto Alegre         -30.05451685   \n",
      "36                          Rogers Centre Toronto   43.641659849999996   \n",
      "37                            BMO stadium Toronto           43.6333414   \n",
      "38                     Tim Hortons Field Hamilton          43.25231925   \n",
      "39                               Gillette Stadium   42.091252600000004   \n",
      "40                         Heinz Field Pittsburgh          40.44671645   \n",
      "41                     Dodger Stadium Los Angeles   34.074552350000005   \n",
      "42                 Estadio Bombonera Buenos Aires           -34.635684   \n",
      "43                     Levi's stadium Santa Clara          37.40303995   \n",
      "44                    Olympic stadium Los Angeles           34.0139923   \n",
      "45                                Arena Joinville         -26.31685525   \n",
      "46                            Arena Condá Chapecó         -27.10409255   \n",
      "47                       Estadio do Café Londrina         -23.28257765   \n",
      "48                       Olympic Stadium Montreal          45.55779835   \n",
      "49      Estadio Rio Parapity Pedro Juan Caballero  -22.539367249999998   \n",
      "50                    Estadio Olimpico Montevideo         -34.89298325   \n",
      "\n",
      "                   long     mark  \n",
      "0   -51.176775332546285  Game(s)  \n",
      "1   -51.195107349371696  Game(s)  \n",
      "2    -51.23491778159686  Game(s)  \n",
      "3    -51.21338858128003  Game(s)  \n",
      "4    -51.19661284321356  Game(s)  \n",
      "5    -56.15268409413207  Game(s)  \n",
      "6    -52.11320741362593  Game(s)  \n",
      "7           -52.1579249  Game(s)  \n",
      "8    -56.16680100991228  Game(s)  \n",
      "9    -52.33606216950615  Game(s)  \n",
      "10   -51.14378705126474  Game(s)  \n",
      "11  -51.520508579225606  Game(s)  \n",
      "12  -51.536641848385514  Game(s)  \n",
      "13    -51.3491964927474  Game(s)  \n",
      "14   -51.54932692439856  Game(s)  \n",
      "15   -52.19717641378466  Game(s)  \n",
      "16   -51.98719464999999  Game(s)  \n",
      "17   -51.99990212334225  Game(s)  \n",
      "18   -51.15490527268014  Game(s)  \n",
      "19  -38.521674511008236  Game(s)  \n",
      "20  -46.720158347269496  Game(s)  \n",
      "21   -46.67852807811731  Game(s)  \n",
      "22   -43.23117510590559  Game(s)  \n",
      "23   -34.90360045446361  Game(s)  \n",
      "24                  NaN  Game(s)  \n",
      "25  -47.790141314717175  Game(s)  \n",
      "26   -49.36767700483055  Game(s)  \n",
      "27   -51.98574784226291  Game(s)  \n",
      "28  -52.264901792155165  Game(s)  \n",
      "29   -43.29348446511976  Game(s)  \n",
      "30   -43.22831183219895  Game(s)  \n",
      "31   -57.65741637968246  Game(s)  \n",
      "32                  NaN  Game(s)  \n",
      "33   -57.60860905262753  Game(s)  \n",
      "34   -49.25975668262751  Game(s)  \n",
      "35    -51.1700800765707  Game(s)  \n",
      "36   -79.38919717372792  Game(s)  \n",
      "37   -79.41856141321526  Game(s)  \n",
      "38   -79.83009787950675  Game(s)  \n",
      "39    -71.2644646105907  Game(s)  \n",
      "40   -80.01575493349428  Game(s)  \n",
      "41   -118.2400480577922  Game(s)  \n",
      "42   -58.36486002634241     Tour  \n",
      "43  -121.96968170505542     Tour  \n",
      "44  -118.28802864848308     Tour  \n",
      "45   -48.83349956813208     Tour  \n",
      "46   -52.60698180721067     Tour  \n",
      "47   -51.16460908730898     Tour  \n",
      "48   -73.55164580516643     Tour  \n",
      "49  -55.745746547998344     Tour  \n",
      "50  -56.245666095455604     Tour  \n"
     ]
    }
   ],
   "source": [
    "print(df) #as expected, the not found stadiums received NaN for lat-long"
   ]
  },
  {
   "cell_type": "markdown",
   "metadata": {},
   "source": [
    "### Time to visualize the coordinates in the map"
   ]
  },
  {
   "cell_type": "code",
   "execution_count": 115,
   "metadata": {},
   "outputs": [
    {
     "data": {
      "application/vnd.plotly.v1+json": {
       "config": {
        "plotlyServerURL": "https://plot.ly"
       },
       "data": [
        {
         "geo": "geo",
         "hovertemplate": "<b>%{hovertext}</b><br><br>mark=Game(s)<br>lat=%{lat}<br>long=%{lon}<br>index=%{marker.color}<extra></extra>",
         "hovertext": [
          "Estadio Alfredo Jaconi",
          "Arena do Gremio",
          "Estadio Beira Rio Porto Alegre",
          "Estadio Olimpico Porto Alegre",
          "Estadio Centenario Caxias do Sul",
          "Estadio Centenario Montevideo",
          "Estadio Aldo Dapuzzo Rio Grande",
          "Estadio Arthur Lawson",
          "Estadio Luis Franzini",
          "Estadio Boca do Lobo Pelotas",
          "Estadio do Vale Novo Hamburgo",
          "Estadio da Montanha Bento Gonçalves",
          "Estadio Montanha dos Vinhedos Bento Gonçalves",
          "Estadio das Castanheiras Farroupilha",
          "Estadio Antonio David Farina Veranopolis",
          "Estadio Edmundo Feix Venancio Aires",
          "Estadio Cristo Rei São Leopoldo",
          "Estadio Castelão Fortaleza",
          "Estadio Morumbi",
          "Estadio Maracanã Rio De Janeiro",
          "Estadio Ilha do Retiro Recife",
          "Estadio Santa Cruz Ribeirão Preto",
          "Estadio Heriberto Hulse Criciuma",
          "Estadio dos Pioneiros Pato Branco",
          "Estadio Colosso da Lagoa Erechim",
          "Estadio Nilton Santos Rio De Janeiro",
          "Estadio Sao Januario",
          "Estadio Defensores del Chaco Asuncion",
          "Estadio La Nueva Olla Asuncion",
          "Estadio Libertad Asuncion",
          "Estadio Couto Pereira Curitiba",
          "Estadio da PUCRS Porto Alegre",
          "Rogers Centre Toronto",
          "BMO stadium Toronto",
          "Tim Hortons Field Hamilton",
          "New England Patriots stadium",
          "Heinz Field Pittsburgh",
          "Dodger Stadium Los Angeles"
         ],
         "lat": [
          "-29.16236395",
          "-29.974042949999998",
          "-30.0654898",
          "-30.06053275",
          "-29.165009050000002",
          "-34.89453925",
          "-32.04782095",
          "-32.0916689",
          "-34.91649554999999",
          "-31.761068299999998",
          "-29.72619985",
          "-29.16459975",
          "-29.1537096",
          "-29.2087103",
          "-28.9433296",
          "-29.6067186",
          "-29.782700499999997",
          "-3.806742",
          "-23.60005845",
          "-22.912161949999998",
          "-8.0630099",
          "-21.20239205",
          "-28.684339100000003",
          "-26.47649375",
          "-27.651266399999997",
          "-22.89318445",
          "-22.890752",
          "-25.2919551",
          null,
          "-25.2916678",
          "-25.421437599999997",
          "-30.05451685",
          "43.641659849999996",
          "43.6333414",
          "43.25231925",
          null,
          "40.44671645",
          "34.074552350000005"
         ],
         "legendgroup": "Game(s)",
         "lon": [
          "-51.176775332546285",
          "-51.195107349371696",
          "-51.23491778159686",
          "-51.21338858128003",
          "-51.19661284321356",
          "-56.15268409413207",
          "-52.11320741362593",
          "-52.1579249",
          "-56.16680100991228",
          "-52.33606216950615",
          "-51.14378705126474",
          "-51.520508579225606",
          "-51.536641848385514",
          "-51.3491964927474",
          "-51.54932692439856",
          "-52.19717641378466",
          "-51.15490527268014",
          "-38.521674511008236",
          "-46.720158347269496",
          "-43.23117510590559",
          "-34.90360045446361",
          "-47.790141314717175",
          "-49.36767700483055",
          "-51.98574784226291",
          "-52.264901792155165",
          "-43.29348446511976",
          "-43.22831183219895",
          "-57.65741637968246",
          null,
          "-57.60860905262753",
          "-49.25975668262751",
          "-51.1700800765707",
          "-79.38919717372792",
          "-79.41856141321526",
          "-79.83009787950675",
          null,
          "-80.01575493349428",
          "-118.2400480577922"
         ],
         "marker": {
          "color": [
           0,
           1,
           2,
           3,
           4,
           5,
           6,
           7,
           8,
           9,
           10,
           11,
           12,
           13,
           14,
           15,
           16,
           17,
           18,
           19,
           20,
           21,
           22,
           23,
           24,
           25,
           26,
           27,
           28,
           29,
           30,
           31,
           32,
           33,
           34,
           35,
           36,
           37
          ],
          "coloraxis": "coloraxis",
          "symbol": "circle"
         },
         "mode": "markers",
         "name": "Game(s)",
         "showlegend": true,
         "type": "scattergeo"
        },
        {
         "geo": "geo",
         "hovertemplate": "<b>%{hovertext}</b><br><br>mark=Tour<br>lat=%{lat}<br>long=%{lon}<br>index=%{marker.color}<extra></extra>",
         "hovertext": [
          "Estadio Bombonera Buenos Aires",
          "Levi's stadium Santa Clara",
          "Olympic stadium Los Angeles",
          "Arena Joinville",
          "Arena Condá Chapecó",
          "Estadio do Café Londrina",
          "Olympic Stadium Montreal",
          "Estadio Rio Parapity Pedro Juan Caballero",
          "Estadio Olimpico Montevideo"
         ],
         "lat": [
          "-34.635684",
          "37.40303995",
          "34.0139923",
          "-26.31685525",
          "-27.10409255",
          "-23.28257765",
          "45.55779835",
          "-22.539367249999998",
          "-34.89298325"
         ],
         "legendgroup": "Tour",
         "lon": [
          "-58.36486002634241",
          "-121.96968170505542",
          "-118.28802864848308",
          "-48.83349956813208",
          "-52.60698180721067",
          "-51.16460908730898",
          "-73.55164580516643",
          "-55.745746547998344",
          "-56.245666095455604"
         ],
         "marker": {
          "color": [
           38,
           39,
           40,
           41,
           42,
           43,
           44,
           45,
           46
          ],
          "coloraxis": "coloraxis",
          "symbol": "diamond"
         },
         "mode": "markers",
         "name": "Tour",
         "showlegend": true,
         "type": "scattergeo"
        }
       ],
       "layout": {
        "coloraxis": {
         "colorbar": {
          "title": {
           "text": "index"
          }
         },
         "colorscale": [
          [
           0,
           "#0d0887"
          ],
          [
           0.1111111111111111,
           "#46039f"
          ],
          [
           0.2222222222222222,
           "#7201a8"
          ],
          [
           0.3333333333333333,
           "#9c179e"
          ],
          [
           0.4444444444444444,
           "#bd3786"
          ],
          [
           0.5555555555555556,
           "#d8576b"
          ],
          [
           0.6666666666666666,
           "#ed7953"
          ],
          [
           0.7777777777777778,
           "#fb9f3a"
          ],
          [
           0.8888888888888888,
           "#fdca26"
          ],
          [
           1,
           "#f0f921"
          ]
         ],
         "showscale": false
        },
        "geo": {
         "center": {},
         "countrycolor": "Green",
         "domain": {
          "x": [
           0,
           1
          ],
          "y": [
           0,
           1
          ]
         },
         "projection": {
          "type": "natural earth"
         },
         "showcountries": true
        },
        "legend": {
         "title": {
          "text": "mark"
         },
         "tracegroupgap": 0
        },
        "margin": {
         "t": 60
        },
        "template": {
         "data": {
          "bar": [
           {
            "error_x": {
             "color": "#2a3f5f"
            },
            "error_y": {
             "color": "#2a3f5f"
            },
            "marker": {
             "line": {
              "color": "#E5ECF6",
              "width": 0.5
             },
             "pattern": {
              "fillmode": "overlay",
              "size": 10,
              "solidity": 0.2
             }
            },
            "type": "bar"
           }
          ],
          "barpolar": [
           {
            "marker": {
             "line": {
              "color": "#E5ECF6",
              "width": 0.5
             },
             "pattern": {
              "fillmode": "overlay",
              "size": 10,
              "solidity": 0.2
             }
            },
            "type": "barpolar"
           }
          ],
          "carpet": [
           {
            "aaxis": {
             "endlinecolor": "#2a3f5f",
             "gridcolor": "white",
             "linecolor": "white",
             "minorgridcolor": "white",
             "startlinecolor": "#2a3f5f"
            },
            "baxis": {
             "endlinecolor": "#2a3f5f",
             "gridcolor": "white",
             "linecolor": "white",
             "minorgridcolor": "white",
             "startlinecolor": "#2a3f5f"
            },
            "type": "carpet"
           }
          ],
          "choropleth": [
           {
            "colorbar": {
             "outlinewidth": 0,
             "ticks": ""
            },
            "type": "choropleth"
           }
          ],
          "contour": [
           {
            "colorbar": {
             "outlinewidth": 0,
             "ticks": ""
            },
            "colorscale": [
             [
              0,
              "#0d0887"
             ],
             [
              0.1111111111111111,
              "#46039f"
             ],
             [
              0.2222222222222222,
              "#7201a8"
             ],
             [
              0.3333333333333333,
              "#9c179e"
             ],
             [
              0.4444444444444444,
              "#bd3786"
             ],
             [
              0.5555555555555556,
              "#d8576b"
             ],
             [
              0.6666666666666666,
              "#ed7953"
             ],
             [
              0.7777777777777778,
              "#fb9f3a"
             ],
             [
              0.8888888888888888,
              "#fdca26"
             ],
             [
              1,
              "#f0f921"
             ]
            ],
            "type": "contour"
           }
          ],
          "contourcarpet": [
           {
            "colorbar": {
             "outlinewidth": 0,
             "ticks": ""
            },
            "type": "contourcarpet"
           }
          ],
          "heatmap": [
           {
            "colorbar": {
             "outlinewidth": 0,
             "ticks": ""
            },
            "colorscale": [
             [
              0,
              "#0d0887"
             ],
             [
              0.1111111111111111,
              "#46039f"
             ],
             [
              0.2222222222222222,
              "#7201a8"
             ],
             [
              0.3333333333333333,
              "#9c179e"
             ],
             [
              0.4444444444444444,
              "#bd3786"
             ],
             [
              0.5555555555555556,
              "#d8576b"
             ],
             [
              0.6666666666666666,
              "#ed7953"
             ],
             [
              0.7777777777777778,
              "#fb9f3a"
             ],
             [
              0.8888888888888888,
              "#fdca26"
             ],
             [
              1,
              "#f0f921"
             ]
            ],
            "type": "heatmap"
           }
          ],
          "heatmapgl": [
           {
            "colorbar": {
             "outlinewidth": 0,
             "ticks": ""
            },
            "colorscale": [
             [
              0,
              "#0d0887"
             ],
             [
              0.1111111111111111,
              "#46039f"
             ],
             [
              0.2222222222222222,
              "#7201a8"
             ],
             [
              0.3333333333333333,
              "#9c179e"
             ],
             [
              0.4444444444444444,
              "#bd3786"
             ],
             [
              0.5555555555555556,
              "#d8576b"
             ],
             [
              0.6666666666666666,
              "#ed7953"
             ],
             [
              0.7777777777777778,
              "#fb9f3a"
             ],
             [
              0.8888888888888888,
              "#fdca26"
             ],
             [
              1,
              "#f0f921"
             ]
            ],
            "type": "heatmapgl"
           }
          ],
          "histogram": [
           {
            "marker": {
             "pattern": {
              "fillmode": "overlay",
              "size": 10,
              "solidity": 0.2
             }
            },
            "type": "histogram"
           }
          ],
          "histogram2d": [
           {
            "colorbar": {
             "outlinewidth": 0,
             "ticks": ""
            },
            "colorscale": [
             [
              0,
              "#0d0887"
             ],
             [
              0.1111111111111111,
              "#46039f"
             ],
             [
              0.2222222222222222,
              "#7201a8"
             ],
             [
              0.3333333333333333,
              "#9c179e"
             ],
             [
              0.4444444444444444,
              "#bd3786"
             ],
             [
              0.5555555555555556,
              "#d8576b"
             ],
             [
              0.6666666666666666,
              "#ed7953"
             ],
             [
              0.7777777777777778,
              "#fb9f3a"
             ],
             [
              0.8888888888888888,
              "#fdca26"
             ],
             [
              1,
              "#f0f921"
             ]
            ],
            "type": "histogram2d"
           }
          ],
          "histogram2dcontour": [
           {
            "colorbar": {
             "outlinewidth": 0,
             "ticks": ""
            },
            "colorscale": [
             [
              0,
              "#0d0887"
             ],
             [
              0.1111111111111111,
              "#46039f"
             ],
             [
              0.2222222222222222,
              "#7201a8"
             ],
             [
              0.3333333333333333,
              "#9c179e"
             ],
             [
              0.4444444444444444,
              "#bd3786"
             ],
             [
              0.5555555555555556,
              "#d8576b"
             ],
             [
              0.6666666666666666,
              "#ed7953"
             ],
             [
              0.7777777777777778,
              "#fb9f3a"
             ],
             [
              0.8888888888888888,
              "#fdca26"
             ],
             [
              1,
              "#f0f921"
             ]
            ],
            "type": "histogram2dcontour"
           }
          ],
          "mesh3d": [
           {
            "colorbar": {
             "outlinewidth": 0,
             "ticks": ""
            },
            "type": "mesh3d"
           }
          ],
          "parcoords": [
           {
            "line": {
             "colorbar": {
              "outlinewidth": 0,
              "ticks": ""
             }
            },
            "type": "parcoords"
           }
          ],
          "pie": [
           {
            "automargin": true,
            "type": "pie"
           }
          ],
          "scatter": [
           {
            "fillpattern": {
             "fillmode": "overlay",
             "size": 10,
             "solidity": 0.2
            },
            "type": "scatter"
           }
          ],
          "scatter3d": [
           {
            "line": {
             "colorbar": {
              "outlinewidth": 0,
              "ticks": ""
             }
            },
            "marker": {
             "colorbar": {
              "outlinewidth": 0,
              "ticks": ""
             }
            },
            "type": "scatter3d"
           }
          ],
          "scattercarpet": [
           {
            "marker": {
             "colorbar": {
              "outlinewidth": 0,
              "ticks": ""
             }
            },
            "type": "scattercarpet"
           }
          ],
          "scattergeo": [
           {
            "marker": {
             "colorbar": {
              "outlinewidth": 0,
              "ticks": ""
             }
            },
            "type": "scattergeo"
           }
          ],
          "scattergl": [
           {
            "marker": {
             "colorbar": {
              "outlinewidth": 0,
              "ticks": ""
             }
            },
            "type": "scattergl"
           }
          ],
          "scattermapbox": [
           {
            "marker": {
             "colorbar": {
              "outlinewidth": 0,
              "ticks": ""
             }
            },
            "type": "scattermapbox"
           }
          ],
          "scatterpolar": [
           {
            "marker": {
             "colorbar": {
              "outlinewidth": 0,
              "ticks": ""
             }
            },
            "type": "scatterpolar"
           }
          ],
          "scatterpolargl": [
           {
            "marker": {
             "colorbar": {
              "outlinewidth": 0,
              "ticks": ""
             }
            },
            "type": "scatterpolargl"
           }
          ],
          "scatterternary": [
           {
            "marker": {
             "colorbar": {
              "outlinewidth": 0,
              "ticks": ""
             }
            },
            "type": "scatterternary"
           }
          ],
          "surface": [
           {
            "colorbar": {
             "outlinewidth": 0,
             "ticks": ""
            },
            "colorscale": [
             [
              0,
              "#0d0887"
             ],
             [
              0.1111111111111111,
              "#46039f"
             ],
             [
              0.2222222222222222,
              "#7201a8"
             ],
             [
              0.3333333333333333,
              "#9c179e"
             ],
             [
              0.4444444444444444,
              "#bd3786"
             ],
             [
              0.5555555555555556,
              "#d8576b"
             ],
             [
              0.6666666666666666,
              "#ed7953"
             ],
             [
              0.7777777777777778,
              "#fb9f3a"
             ],
             [
              0.8888888888888888,
              "#fdca26"
             ],
             [
              1,
              "#f0f921"
             ]
            ],
            "type": "surface"
           }
          ],
          "table": [
           {
            "cells": {
             "fill": {
              "color": "#EBF0F8"
             },
             "line": {
              "color": "white"
             }
            },
            "header": {
             "fill": {
              "color": "#C8D4E3"
             },
             "line": {
              "color": "white"
             }
            },
            "type": "table"
           }
          ]
         },
         "layout": {
          "annotationdefaults": {
           "arrowcolor": "#2a3f5f",
           "arrowhead": 0,
           "arrowwidth": 1
          },
          "autotypenumbers": "strict",
          "coloraxis": {
           "colorbar": {
            "outlinewidth": 0,
            "ticks": ""
           }
          },
          "colorscale": {
           "diverging": [
            [
             0,
             "#8e0152"
            ],
            [
             0.1,
             "#c51b7d"
            ],
            [
             0.2,
             "#de77ae"
            ],
            [
             0.3,
             "#f1b6da"
            ],
            [
             0.4,
             "#fde0ef"
            ],
            [
             0.5,
             "#f7f7f7"
            ],
            [
             0.6,
             "#e6f5d0"
            ],
            [
             0.7,
             "#b8e186"
            ],
            [
             0.8,
             "#7fbc41"
            ],
            [
             0.9,
             "#4d9221"
            ],
            [
             1,
             "#276419"
            ]
           ],
           "sequential": [
            [
             0,
             "#0d0887"
            ],
            [
             0.1111111111111111,
             "#46039f"
            ],
            [
             0.2222222222222222,
             "#7201a8"
            ],
            [
             0.3333333333333333,
             "#9c179e"
            ],
            [
             0.4444444444444444,
             "#bd3786"
            ],
            [
             0.5555555555555556,
             "#d8576b"
            ],
            [
             0.6666666666666666,
             "#ed7953"
            ],
            [
             0.7777777777777778,
             "#fb9f3a"
            ],
            [
             0.8888888888888888,
             "#fdca26"
            ],
            [
             1,
             "#f0f921"
            ]
           ],
           "sequentialminus": [
            [
             0,
             "#0d0887"
            ],
            [
             0.1111111111111111,
             "#46039f"
            ],
            [
             0.2222222222222222,
             "#7201a8"
            ],
            [
             0.3333333333333333,
             "#9c179e"
            ],
            [
             0.4444444444444444,
             "#bd3786"
            ],
            [
             0.5555555555555556,
             "#d8576b"
            ],
            [
             0.6666666666666666,
             "#ed7953"
            ],
            [
             0.7777777777777778,
             "#fb9f3a"
            ],
            [
             0.8888888888888888,
             "#fdca26"
            ],
            [
             1,
             "#f0f921"
            ]
           ]
          },
          "colorway": [
           "#636efa",
           "#EF553B",
           "#00cc96",
           "#ab63fa",
           "#FFA15A",
           "#19d3f3",
           "#FF6692",
           "#B6E880",
           "#FF97FF",
           "#FECB52"
          ],
          "font": {
           "color": "#2a3f5f"
          },
          "geo": {
           "bgcolor": "white",
           "lakecolor": "white",
           "landcolor": "#E5ECF6",
           "showlakes": true,
           "showland": true,
           "subunitcolor": "white"
          },
          "hoverlabel": {
           "align": "left"
          },
          "hovermode": "closest",
          "mapbox": {
           "style": "light"
          },
          "paper_bgcolor": "white",
          "plot_bgcolor": "#E5ECF6",
          "polar": {
           "angularaxis": {
            "gridcolor": "white",
            "linecolor": "white",
            "ticks": ""
           },
           "bgcolor": "#E5ECF6",
           "radialaxis": {
            "gridcolor": "white",
            "linecolor": "white",
            "ticks": ""
           }
          },
          "scene": {
           "xaxis": {
            "backgroundcolor": "#E5ECF6",
            "gridcolor": "white",
            "gridwidth": 2,
            "linecolor": "white",
            "showbackground": true,
            "ticks": "",
            "zerolinecolor": "white"
           },
           "yaxis": {
            "backgroundcolor": "#E5ECF6",
            "gridcolor": "white",
            "gridwidth": 2,
            "linecolor": "white",
            "showbackground": true,
            "ticks": "",
            "zerolinecolor": "white"
           },
           "zaxis": {
            "backgroundcolor": "#E5ECF6",
            "gridcolor": "white",
            "gridwidth": 2,
            "linecolor": "white",
            "showbackground": true,
            "ticks": "",
            "zerolinecolor": "white"
           }
          },
          "shapedefaults": {
           "line": {
            "color": "#2a3f5f"
           }
          },
          "ternary": {
           "aaxis": {
            "gridcolor": "white",
            "linecolor": "white",
            "ticks": ""
           },
           "baxis": {
            "gridcolor": "white",
            "linecolor": "white",
            "ticks": ""
           },
           "bgcolor": "#E5ECF6",
           "caxis": {
            "gridcolor": "white",
            "linecolor": "white",
            "ticks": ""
           }
          },
          "title": {
           "x": 0.05
          },
          "xaxis": {
           "automargin": true,
           "gridcolor": "white",
           "linecolor": "white",
           "ticks": "",
           "title": {
            "standoff": 15
           },
           "zerolinecolor": "white",
           "zerolinewidth": 2
          },
          "yaxis": {
           "automargin": true,
           "gridcolor": "white",
           "linecolor": "white",
           "ticks": "",
           "title": {
            "standoff": 15
           },
           "zerolinecolor": "white",
           "zerolinewidth": 2
          }
         }
        },
        "title": {
         "text": "World map",
         "x": 0.5
        }
       }
      },
      "text/html": [
       "<div>                            <div id=\"803b93f5-1380-4ecc-a5b8-8509bc303907\" class=\"plotly-graph-div\" style=\"height:525px; width:100%;\"></div>            <script type=\"text/javascript\">                require([\"plotly\"], function(Plotly) {                    window.PLOTLYENV=window.PLOTLYENV || {};                                    if (document.getElementById(\"803b93f5-1380-4ecc-a5b8-8509bc303907\")) {                    Plotly.newPlot(                        \"803b93f5-1380-4ecc-a5b8-8509bc303907\",                        [{\"geo\":\"geo\",\"hovertemplate\":\"<b>%{hovertext}</b><br><br>mark=Game(s)<br>lat=%{lat}<br>long=%{lon}<br>index=%{marker.color}<extra></extra>\",\"hovertext\":[\"Estadio Alfredo Jaconi\",\"Arena do Gremio\",\"Estadio Beira Rio Porto Alegre\",\"Estadio Olimpico Porto Alegre\",\"Estadio Centenario Caxias do Sul\",\"Estadio Centenario Montevideo\",\"Estadio Aldo Dapuzzo Rio Grande\",\"Estadio Arthur Lawson\",\"Estadio Luis Franzini\",\"Estadio Boca do Lobo Pelotas\",\"Estadio do Vale Novo Hamburgo\",\"Estadio da Montanha Bento Gon\\u00e7alves\",\"Estadio Montanha dos Vinhedos Bento Gon\\u00e7alves\",\"Estadio das Castanheiras Farroupilha\",\"Estadio Antonio David Farina Veranopolis\",\"Estadio Edmundo Feix Venancio Aires\",\"Estadio Cristo Rei S\\u00e3o Leopoldo\",\"Estadio Castel\\u00e3o Fortaleza\",\"Estadio Morumbi\",\"Estadio Maracan\\u00e3 Rio De Janeiro\",\"Estadio Ilha do Retiro Recife\",\"Estadio Santa Cruz Ribeir\\u00e3o Preto\",\"Estadio Heriberto Hulse Criciuma\",\"Estadio dos Pioneiros Pato Branco\",\"Estadio Colosso da Lagoa Erechim\",\"Estadio Nilton Santos Rio De Janeiro\",\"Estadio Sao Januario\",\"Estadio Defensores del Chaco Asuncion\",\"Estadio La Nueva Olla Asuncion\",\"Estadio Libertad Asuncion\",\"Estadio Couto Pereira Curitiba\",\"Estadio da PUCRS Porto Alegre\",\"Rogers Centre Toronto\",\"BMO stadium Toronto\",\"Tim Hortons Field Hamilton\",\"New England Patriots stadium\",\"Heinz Field Pittsburgh\",\"Dodger Stadium Los Angeles\"],\"lat\":[\"-29.16236395\",\"-29.974042949999998\",\"-30.0654898\",\"-30.06053275\",\"-29.165009050000002\",\"-34.89453925\",\"-32.04782095\",\"-32.0916689\",\"-34.91649554999999\",\"-31.761068299999998\",\"-29.72619985\",\"-29.16459975\",\"-29.1537096\",\"-29.2087103\",\"-28.9433296\",\"-29.6067186\",\"-29.782700499999997\",\"-3.806742\",\"-23.60005845\",\"-22.912161949999998\",\"-8.0630099\",\"-21.20239205\",\"-28.684339100000003\",\"-26.47649375\",\"-27.651266399999997\",\"-22.89318445\",\"-22.890752\",\"-25.2919551\",null,\"-25.2916678\",\"-25.421437599999997\",\"-30.05451685\",\"43.641659849999996\",\"43.6333414\",\"43.25231925\",null,\"40.44671645\",\"34.074552350000005\"],\"legendgroup\":\"Game(s)\",\"lon\":[\"-51.176775332546285\",\"-51.195107349371696\",\"-51.23491778159686\",\"-51.21338858128003\",\"-51.19661284321356\",\"-56.15268409413207\",\"-52.11320741362593\",\"-52.1579249\",\"-56.16680100991228\",\"-52.33606216950615\",\"-51.14378705126474\",\"-51.520508579225606\",\"-51.536641848385514\",\"-51.3491964927474\",\"-51.54932692439856\",\"-52.19717641378466\",\"-51.15490527268014\",\"-38.521674511008236\",\"-46.720158347269496\",\"-43.23117510590559\",\"-34.90360045446361\",\"-47.790141314717175\",\"-49.36767700483055\",\"-51.98574784226291\",\"-52.264901792155165\",\"-43.29348446511976\",\"-43.22831183219895\",\"-57.65741637968246\",null,\"-57.60860905262753\",\"-49.25975668262751\",\"-51.1700800765707\",\"-79.38919717372792\",\"-79.41856141321526\",\"-79.83009787950675\",null,\"-80.01575493349428\",\"-118.2400480577922\"],\"marker\":{\"color\":[0,1,2,3,4,5,6,7,8,9,10,11,12,13,14,15,16,17,18,19,20,21,22,23,24,25,26,27,28,29,30,31,32,33,34,35,36,37],\"coloraxis\":\"coloraxis\",\"symbol\":\"circle\"},\"mode\":\"markers\",\"name\":\"Game(s)\",\"showlegend\":true,\"type\":\"scattergeo\"},{\"geo\":\"geo\",\"hovertemplate\":\"<b>%{hovertext}</b><br><br>mark=Tour<br>lat=%{lat}<br>long=%{lon}<br>index=%{marker.color}<extra></extra>\",\"hovertext\":[\"Estadio Bombonera Buenos Aires\",\"Levi's stadium Santa Clara\",\"Olympic stadium Los Angeles\",\"Arena Joinville\",\"Arena Cond\\u00e1 Chapec\\u00f3\",\"Estadio do Caf\\u00e9 Londrina\",\"Olympic Stadium Montreal\",\"Estadio Rio Parapity Pedro Juan Caballero\",\"Estadio Olimpico Montevideo\"],\"lat\":[\"-34.635684\",\"37.40303995\",\"34.0139923\",\"-26.31685525\",\"-27.10409255\",\"-23.28257765\",\"45.55779835\",\"-22.539367249999998\",\"-34.89298325\"],\"legendgroup\":\"Tour\",\"lon\":[\"-58.36486002634241\",\"-121.96968170505542\",\"-118.28802864848308\",\"-48.83349956813208\",\"-52.60698180721067\",\"-51.16460908730898\",\"-73.55164580516643\",\"-55.745746547998344\",\"-56.245666095455604\"],\"marker\":{\"color\":[38,39,40,41,42,43,44,45,46],\"coloraxis\":\"coloraxis\",\"symbol\":\"diamond\"},\"mode\":\"markers\",\"name\":\"Tour\",\"showlegend\":true,\"type\":\"scattergeo\"}],                        {\"template\":{\"data\":{\"histogram2dcontour\":[{\"type\":\"histogram2dcontour\",\"colorbar\":{\"outlinewidth\":0,\"ticks\":\"\"},\"colorscale\":[[0.0,\"#0d0887\"],[0.1111111111111111,\"#46039f\"],[0.2222222222222222,\"#7201a8\"],[0.3333333333333333,\"#9c179e\"],[0.4444444444444444,\"#bd3786\"],[0.5555555555555556,\"#d8576b\"],[0.6666666666666666,\"#ed7953\"],[0.7777777777777778,\"#fb9f3a\"],[0.8888888888888888,\"#fdca26\"],[1.0,\"#f0f921\"]]}],\"choropleth\":[{\"type\":\"choropleth\",\"colorbar\":{\"outlinewidth\":0,\"ticks\":\"\"}}],\"histogram2d\":[{\"type\":\"histogram2d\",\"colorbar\":{\"outlinewidth\":0,\"ticks\":\"\"},\"colorscale\":[[0.0,\"#0d0887\"],[0.1111111111111111,\"#46039f\"],[0.2222222222222222,\"#7201a8\"],[0.3333333333333333,\"#9c179e\"],[0.4444444444444444,\"#bd3786\"],[0.5555555555555556,\"#d8576b\"],[0.6666666666666666,\"#ed7953\"],[0.7777777777777778,\"#fb9f3a\"],[0.8888888888888888,\"#fdca26\"],[1.0,\"#f0f921\"]]}],\"heatmap\":[{\"type\":\"heatmap\",\"colorbar\":{\"outlinewidth\":0,\"ticks\":\"\"},\"colorscale\":[[0.0,\"#0d0887\"],[0.1111111111111111,\"#46039f\"],[0.2222222222222222,\"#7201a8\"],[0.3333333333333333,\"#9c179e\"],[0.4444444444444444,\"#bd3786\"],[0.5555555555555556,\"#d8576b\"],[0.6666666666666666,\"#ed7953\"],[0.7777777777777778,\"#fb9f3a\"],[0.8888888888888888,\"#fdca26\"],[1.0,\"#f0f921\"]]}],\"heatmapgl\":[{\"type\":\"heatmapgl\",\"colorbar\":{\"outlinewidth\":0,\"ticks\":\"\"},\"colorscale\":[[0.0,\"#0d0887\"],[0.1111111111111111,\"#46039f\"],[0.2222222222222222,\"#7201a8\"],[0.3333333333333333,\"#9c179e\"],[0.4444444444444444,\"#bd3786\"],[0.5555555555555556,\"#d8576b\"],[0.6666666666666666,\"#ed7953\"],[0.7777777777777778,\"#fb9f3a\"],[0.8888888888888888,\"#fdca26\"],[1.0,\"#f0f921\"]]}],\"contourcarpet\":[{\"type\":\"contourcarpet\",\"colorbar\":{\"outlinewidth\":0,\"ticks\":\"\"}}],\"contour\":[{\"type\":\"contour\",\"colorbar\":{\"outlinewidth\":0,\"ticks\":\"\"},\"colorscale\":[[0.0,\"#0d0887\"],[0.1111111111111111,\"#46039f\"],[0.2222222222222222,\"#7201a8\"],[0.3333333333333333,\"#9c179e\"],[0.4444444444444444,\"#bd3786\"],[0.5555555555555556,\"#d8576b\"],[0.6666666666666666,\"#ed7953\"],[0.7777777777777778,\"#fb9f3a\"],[0.8888888888888888,\"#fdca26\"],[1.0,\"#f0f921\"]]}],\"surface\":[{\"type\":\"surface\",\"colorbar\":{\"outlinewidth\":0,\"ticks\":\"\"},\"colorscale\":[[0.0,\"#0d0887\"],[0.1111111111111111,\"#46039f\"],[0.2222222222222222,\"#7201a8\"],[0.3333333333333333,\"#9c179e\"],[0.4444444444444444,\"#bd3786\"],[0.5555555555555556,\"#d8576b\"],[0.6666666666666666,\"#ed7953\"],[0.7777777777777778,\"#fb9f3a\"],[0.8888888888888888,\"#fdca26\"],[1.0,\"#f0f921\"]]}],\"mesh3d\":[{\"type\":\"mesh3d\",\"colorbar\":{\"outlinewidth\":0,\"ticks\":\"\"}}],\"scatter\":[{\"fillpattern\":{\"fillmode\":\"overlay\",\"size\":10,\"solidity\":0.2},\"type\":\"scatter\"}],\"parcoords\":[{\"type\":\"parcoords\",\"line\":{\"colorbar\":{\"outlinewidth\":0,\"ticks\":\"\"}}}],\"scatterpolargl\":[{\"type\":\"scatterpolargl\",\"marker\":{\"colorbar\":{\"outlinewidth\":0,\"ticks\":\"\"}}}],\"bar\":[{\"error_x\":{\"color\":\"#2a3f5f\"},\"error_y\":{\"color\":\"#2a3f5f\"},\"marker\":{\"line\":{\"color\":\"#E5ECF6\",\"width\":0.5},\"pattern\":{\"fillmode\":\"overlay\",\"size\":10,\"solidity\":0.2}},\"type\":\"bar\"}],\"scattergeo\":[{\"type\":\"scattergeo\",\"marker\":{\"colorbar\":{\"outlinewidth\":0,\"ticks\":\"\"}}}],\"scatterpolar\":[{\"type\":\"scatterpolar\",\"marker\":{\"colorbar\":{\"outlinewidth\":0,\"ticks\":\"\"}}}],\"histogram\":[{\"marker\":{\"pattern\":{\"fillmode\":\"overlay\",\"size\":10,\"solidity\":0.2}},\"type\":\"histogram\"}],\"scattergl\":[{\"type\":\"scattergl\",\"marker\":{\"colorbar\":{\"outlinewidth\":0,\"ticks\":\"\"}}}],\"scatter3d\":[{\"type\":\"scatter3d\",\"line\":{\"colorbar\":{\"outlinewidth\":0,\"ticks\":\"\"}},\"marker\":{\"colorbar\":{\"outlinewidth\":0,\"ticks\":\"\"}}}],\"scattermapbox\":[{\"type\":\"scattermapbox\",\"marker\":{\"colorbar\":{\"outlinewidth\":0,\"ticks\":\"\"}}}],\"scatterternary\":[{\"type\":\"scatterternary\",\"marker\":{\"colorbar\":{\"outlinewidth\":0,\"ticks\":\"\"}}}],\"scattercarpet\":[{\"type\":\"scattercarpet\",\"marker\":{\"colorbar\":{\"outlinewidth\":0,\"ticks\":\"\"}}}],\"carpet\":[{\"aaxis\":{\"endlinecolor\":\"#2a3f5f\",\"gridcolor\":\"white\",\"linecolor\":\"white\",\"minorgridcolor\":\"white\",\"startlinecolor\":\"#2a3f5f\"},\"baxis\":{\"endlinecolor\":\"#2a3f5f\",\"gridcolor\":\"white\",\"linecolor\":\"white\",\"minorgridcolor\":\"white\",\"startlinecolor\":\"#2a3f5f\"},\"type\":\"carpet\"}],\"table\":[{\"cells\":{\"fill\":{\"color\":\"#EBF0F8\"},\"line\":{\"color\":\"white\"}},\"header\":{\"fill\":{\"color\":\"#C8D4E3\"},\"line\":{\"color\":\"white\"}},\"type\":\"table\"}],\"barpolar\":[{\"marker\":{\"line\":{\"color\":\"#E5ECF6\",\"width\":0.5},\"pattern\":{\"fillmode\":\"overlay\",\"size\":10,\"solidity\":0.2}},\"type\":\"barpolar\"}],\"pie\":[{\"automargin\":true,\"type\":\"pie\"}]},\"layout\":{\"autotypenumbers\":\"strict\",\"colorway\":[\"#636efa\",\"#EF553B\",\"#00cc96\",\"#ab63fa\",\"#FFA15A\",\"#19d3f3\",\"#FF6692\",\"#B6E880\",\"#FF97FF\",\"#FECB52\"],\"font\":{\"color\":\"#2a3f5f\"},\"hovermode\":\"closest\",\"hoverlabel\":{\"align\":\"left\"},\"paper_bgcolor\":\"white\",\"plot_bgcolor\":\"#E5ECF6\",\"polar\":{\"bgcolor\":\"#E5ECF6\",\"angularaxis\":{\"gridcolor\":\"white\",\"linecolor\":\"white\",\"ticks\":\"\"},\"radialaxis\":{\"gridcolor\":\"white\",\"linecolor\":\"white\",\"ticks\":\"\"}},\"ternary\":{\"bgcolor\":\"#E5ECF6\",\"aaxis\":{\"gridcolor\":\"white\",\"linecolor\":\"white\",\"ticks\":\"\"},\"baxis\":{\"gridcolor\":\"white\",\"linecolor\":\"white\",\"ticks\":\"\"},\"caxis\":{\"gridcolor\":\"white\",\"linecolor\":\"white\",\"ticks\":\"\"}},\"coloraxis\":{\"colorbar\":{\"outlinewidth\":0,\"ticks\":\"\"}},\"colorscale\":{\"sequential\":[[0.0,\"#0d0887\"],[0.1111111111111111,\"#46039f\"],[0.2222222222222222,\"#7201a8\"],[0.3333333333333333,\"#9c179e\"],[0.4444444444444444,\"#bd3786\"],[0.5555555555555556,\"#d8576b\"],[0.6666666666666666,\"#ed7953\"],[0.7777777777777778,\"#fb9f3a\"],[0.8888888888888888,\"#fdca26\"],[1.0,\"#f0f921\"]],\"sequentialminus\":[[0.0,\"#0d0887\"],[0.1111111111111111,\"#46039f\"],[0.2222222222222222,\"#7201a8\"],[0.3333333333333333,\"#9c179e\"],[0.4444444444444444,\"#bd3786\"],[0.5555555555555556,\"#d8576b\"],[0.6666666666666666,\"#ed7953\"],[0.7777777777777778,\"#fb9f3a\"],[0.8888888888888888,\"#fdca26\"],[1.0,\"#f0f921\"]],\"diverging\":[[0,\"#8e0152\"],[0.1,\"#c51b7d\"],[0.2,\"#de77ae\"],[0.3,\"#f1b6da\"],[0.4,\"#fde0ef\"],[0.5,\"#f7f7f7\"],[0.6,\"#e6f5d0\"],[0.7,\"#b8e186\"],[0.8,\"#7fbc41\"],[0.9,\"#4d9221\"],[1,\"#276419\"]]},\"xaxis\":{\"gridcolor\":\"white\",\"linecolor\":\"white\",\"ticks\":\"\",\"title\":{\"standoff\":15},\"zerolinecolor\":\"white\",\"automargin\":true,\"zerolinewidth\":2},\"yaxis\":{\"gridcolor\":\"white\",\"linecolor\":\"white\",\"ticks\":\"\",\"title\":{\"standoff\":15},\"zerolinecolor\":\"white\",\"automargin\":true,\"zerolinewidth\":2},\"scene\":{\"xaxis\":{\"backgroundcolor\":\"#E5ECF6\",\"gridcolor\":\"white\",\"linecolor\":\"white\",\"showbackground\":true,\"ticks\":\"\",\"zerolinecolor\":\"white\",\"gridwidth\":2},\"yaxis\":{\"backgroundcolor\":\"#E5ECF6\",\"gridcolor\":\"white\",\"linecolor\":\"white\",\"showbackground\":true,\"ticks\":\"\",\"zerolinecolor\":\"white\",\"gridwidth\":2},\"zaxis\":{\"backgroundcolor\":\"#E5ECF6\",\"gridcolor\":\"white\",\"linecolor\":\"white\",\"showbackground\":true,\"ticks\":\"\",\"zerolinecolor\":\"white\",\"gridwidth\":2}},\"shapedefaults\":{\"line\":{\"color\":\"#2a3f5f\"}},\"annotationdefaults\":{\"arrowcolor\":\"#2a3f5f\",\"arrowhead\":0,\"arrowwidth\":1},\"geo\":{\"bgcolor\":\"white\",\"landcolor\":\"#E5ECF6\",\"subunitcolor\":\"white\",\"showland\":true,\"showlakes\":true,\"lakecolor\":\"white\"},\"title\":{\"x\":0.05},\"mapbox\":{\"style\":\"light\"}}},\"geo\":{\"domain\":{\"x\":[0.0,1.0],\"y\":[0.0,1.0]},\"projection\":{\"type\":\"natural earth\"},\"center\":{},\"showcountries\":true,\"countrycolor\":\"Green\"},\"coloraxis\":{\"colorbar\":{\"title\":{\"text\":\"index\"}},\"colorscale\":[[0.0,\"#0d0887\"],[0.1111111111111111,\"#46039f\"],[0.2222222222222222,\"#7201a8\"],[0.3333333333333333,\"#9c179e\"],[0.4444444444444444,\"#bd3786\"],[0.5555555555555556,\"#d8576b\"],[0.6666666666666666,\"#ed7953\"],[0.7777777777777778,\"#fb9f3a\"],[0.8888888888888888,\"#fdca26\"],[1.0,\"#f0f921\"]],\"showscale\":false},\"legend\":{\"title\":{\"text\":\"mark\"},\"tracegroupgap\":0},\"margin\":{\"t\":60},\"title\":{\"text\":\"World map\",\"x\":0.5}},                        {\"responsive\": true}                    ).then(function(){\n",
       "                            \n",
       "var gd = document.getElementById('803b93f5-1380-4ecc-a5b8-8509bc303907');\n",
       "var x = new MutationObserver(function (mutations, observer) {{\n",
       "        var display = window.getComputedStyle(gd).display;\n",
       "        if (!display || display === 'none') {{\n",
       "            console.log([gd, 'removed!']);\n",
       "            Plotly.purge(gd);\n",
       "            observer.disconnect();\n",
       "        }}\n",
       "}});\n",
       "\n",
       "// Listen for the removal of the full notebook cells\n",
       "var notebookContainer = gd.closest('#notebook-container');\n",
       "if (notebookContainer) {{\n",
       "    x.observe(notebookContainer, {childList: true});\n",
       "}}\n",
       "\n",
       "// Listen for the clearing of the current output cell\n",
       "var outputEl = gd.closest('.output');\n",
       "if (outputEl) {{\n",
       "    x.observe(outputEl, {childList: true});\n",
       "}}\n",
       "\n",
       "                        })                };                });            </script>        </div>"
      ]
     },
     "metadata": {},
     "output_type": "display_data"
    }
   ],
   "source": [
    "import plotly.express as px\n",
    "\n",
    "fig = px.scatter_geo(df, lat='lat',lon='long', hover_name=\"name\", projection=\"natural earth\", \n",
    "                     color=df.index, color_continuous_scale = px.colors.sequential.Plasma,\n",
    "                     symbol = 'mark')\n",
    "fig.update_layout(title = 'World map', title_x=0.5)\n",
    "fig.update_geos(showcountries=True, countrycolor=\"Green\")\n",
    "fig.update_coloraxes(showscale=False)\n",
    "fig.show()"
   ]
  },
  {
   "cell_type": "code",
   "execution_count": null,
   "metadata": {},
   "outputs": [],
   "source": []
  }
 ],
 "metadata": {
  "kernelspec": {
   "display_name": "Python 3",
   "language": "python",
   "name": "python3"
  },
  "language_info": {
   "codemirror_mode": {
    "name": "ipython",
    "version": 3
   },
   "file_extension": ".py",
   "mimetype": "text/x-python",
   "name": "python",
   "nbconvert_exporter": "python",
   "pygments_lexer": "ipython3",
   "version": "3.8.10"
  }
 },
 "nbformat": 4,
 "nbformat_minor": 4
}
